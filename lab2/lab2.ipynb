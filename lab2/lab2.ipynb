{
  "cells": [
    {
      "cell_type": "markdown",
      "metadata": {},
      "source": [
        "# Лабораторная работа: Анализ данных, очистка, генерация признаков и масштабирование\n",
        "\n",
        "Этот ноутбук воспроизводит шаги из проекта:\n",
        "- Загрузка датасета\n",
        "- Анализ пропусков (визуализация тепловой карты и диаграммы)\n",
        "- Поиск аномалий (BoxPlot по числовым признакам)\n",
        "- Заполнение пропусков и повторная проверка\n",
        "- Обработка выбросов и повторная проверка\n",
        "- Генерация новых признаков\n",
        "- Кодирование категориальных признаков (OHE, бинаризация)\n",
        "- Стандартизация (Z-score) и нормализация (Min-Max)\n"
      ]
    },
    {
      "cell_type": "code",
      "execution_count": null,
      "metadata": {},
      "outputs": [],
      "source": [
        "# Импорт и настройка\n",
        "%matplotlib inline\n",
        "import pandas as pd\n",
        "import matplotlib.pyplot as plt\n",
        "import seaborn as sns\n",
        "\n",
        "import helpers\n",
        "helpers.setup()\n"
      ]
    },
    {
      "cell_type": "code",
      "execution_count": null,
      "metadata": {},
      "outputs": [],
      "source": [
        "# Загрузка данных\n",
        "path = './train.csv'\n",
        "df = helpers.load_data(path)\n",
        "df.head()\n"
      ]
    },
    {
      "cell_type": "code",
      "execution_count": null,
      "metadata": {},
      "outputs": [],
      "source": [
        "# Анализ пропусков: графики и таблицы\n",
        "helpers.analyze_misses(df)\n",
        "\n",
        "missing = df.isnull().sum().sort_values(ascending=False)\n",
        "missing[missing > 0].head(20)\n"
      ]
    },
    {
      "cell_type": "code",
      "execution_count": null,
      "metadata": {},
      "outputs": [],
      "source": [
        "# Поиск аномалий (выбросов)\n",
        "helpers.anomaly_find(df)\n"
      ]
    },
    {
      "cell_type": "code",
      "execution_count": null,
      "metadata": {},
      "outputs": [],
      "source": [
        "# Заполнение пропусков и повторная проверка\n",
        "helpers.analyze_misses(df)\n",
        "df_filled = helpers.fill_missing_value_mode(df)\n",
        "helpers.analyze_misses(df_filled)\n"
      ]
    },
    {
      "cell_type": "code",
      "execution_count": null,
      "metadata": {},
      "outputs": [],
      "source": [
        "# Устранение выбросов и повторная проверка\n",
        "helpers.anomaly_find(df)\n",
        "df_no_outliers = helpers.remove_outliers(df)\n",
        "helpers.anomaly_find(df_no_outliers)\n"
      ]
    },
    {
      "cell_type": "code",
      "execution_count": null,
      "metadata": {},
      "outputs": [],
      "source": [
        "# Генерация новых признаков\n",
        "feat_df = helpers.generate_features(df)\n",
        "feat_df.filter(regex='Num_Product_Categories|Has_Prod_Cat_3|Purchase_per_Category|Is_High_Spender').head()\n"
      ]
    },
    {
      "cell_type": "code",
      "execution_count": null,
      "metadata": {},
      "outputs": [],
      "source": [
        "# Кодирование категориальных признаков (OHE)\n",
        "ohe_df = helpers.one_hot_encode(df)\n",
        "ohe_df.head()\n"
      ]
    },
    {
      "cell_type": "code",
      "execution_count": null,
      "metadata": {},
      "outputs": [],
      "source": [
        "# Бинаризация числовых признаков\n",
        "bin_df = helpers.binarize_columns(df)\n",
        "bin_df.filter(regex='_bin$').head()\n"
      ]
    },
    {
      "cell_type": "code",
      "execution_count": null,
      "metadata": {},
      "outputs": [],
      "source": [
        "# Стандартизация и нормализация\n",
        "std_df = helpers.standardize(df)\n",
        "mm_df = helpers.minmax_scale(df)\n",
        "\n",
        "std_df.filter(regex='_std$').head(), mm_df.filter(regex='_mm$').head()\n"
      ]
    }
  ],
  "metadata": {
    "language_info": {
      "name": "python"
    }
  },
  "nbformat": 4,
  "nbformat_minor": 2
}
